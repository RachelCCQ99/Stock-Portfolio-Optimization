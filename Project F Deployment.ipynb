{
 "cells": [
  {
   "cell_type": "markdown",
   "metadata": {
    "hideCode": false,
    "hidePrompt": false
   },
   "source": [
    "# Project Part F: Deployment\n",
    "\n",
    "![](banner_project.jpg)"
   ]
  },
  {
   "cell_type": "code",
   "execution_count": 1,
   "metadata": {},
   "outputs": [],
   "source": [
    "analyst = \"Rachel Chen\" # Replace this with your name"
   ]
  },
  {
   "cell_type": "code",
   "execution_count": 2,
   "metadata": {
    "hide_input": false
   },
   "outputs": [
    {
     "data": {
      "text/html": [
       "<p style=\"text-align:center; font-size:10px;\">\n",
       ".................................................... start of document ....................................................\n",
       "</p>"
      ]
     },
     "metadata": {},
     "output_type": "display_data"
    }
   ],
   "source": [
    "f = \"setup.R\"; for (i in 1:10) { if (file.exists(f)) break else f = paste0(\"../\", f) }; source(f)\n",
    "options(repr.matrix.max.rows=674)\n",
    "options(repr.matrix.max.cols=200)\n",
    "update_geom_defaults(\"point\", list(size=1))                                "
   ]
  },
  {
   "cell_type": "markdown",
   "metadata": {},
   "source": [
    "## Directions"
   ]
  },
  {
   "cell_type": "markdown",
   "metadata": {},
   "source": [
    "### Objective\n",
    "\n",
    "Recommend a portfolio of 12 company investments that maximizes 12-month return of an overall \\$1,000,000 investment."
   ]
  },
  {
   "cell_type": "markdown",
   "metadata": {},
   "source": [
    "### Approach\n",
    "\n",
    "Retrieve a transformed dataset about public company fundamentals and use it reproduce the construction of a selected model.\n",
    "\n",
    "Retrieve an investment opportunities dataset, comprising fundamentals for some set of public companies over some one-year period.  Transform the representation of the investment opportunities to match the representation expected by the model, leveraging previous analysis.\n",
    "\n",
    "Use the model to make predictions about the investment opportunities and accordingly recommend a portfolio of 12 company investments."
   ]
  },
  {
   "cell_type": "markdown",
   "metadata": {},
   "source": [
    "## Business Model\n",
    "\n",
    "\n",
    "The business model is ...\n",
    "\n",
    "$ \\begin{align} profit = \\left( \\sum_{i \\in portfolio} (1 + growth_i) \\times allocation_i \\right) - budget \\end{align} $\n",
    "\n",
    "<br>\n",
    "\n",
    "$ profit\\,rate = profit \\div budget $\n",
    "\n",
    "\n",
    "$ \\begin{align} budget = \\sum_{i \\in portfolio} allocation_i \\end{align} $\n",
    "\n",
    "<br>\n",
    "\n",
    "Business model parameters include ...\n",
    "\n",
    "* Budget = \\\\$1,000,000: total investment to allocate across the companies in the portfolio\n",
    "* Portfolio Size = 12: number of companies in the portfolio\n",
    "* Allocations = \\\\$1,000,000 $\\div$ 12 to each company: investments to allocate to specific companies in the portfolio \n",
    "\n",
    "Fill the portfolio with companies that have the highest predicted growths."
   ]
  },
  {
   "cell_type": "code",
   "execution_count": 3,
   "metadata": {},
   "outputs": [
    {
     "data": {
      "text/html": [
       "<table><tr><td style=\"background-color:white; vertical-align:top; padding-right:40px;\"><table>\n",
       " <thead>\n",
       "  <tr>\n",
       "   <th style=\"text-align:right;background-color: #FFFFFF !important;\"> budget </th>\n",
       "  </tr>\n",
       " </thead>\n",
       "<tbody>\n",
       "  <tr>\n",
       "   <td style=\"text-align:right;\"> 1000000 </td>\n",
       "  </tr>\n",
       "</tbody>\n",
       "</table></td><td style=\"background-color:white; vertical-align:top; padding-right:40px;\"><table>\n",
       " <thead>\n",
       "  <tr>\n",
       "   <th style=\"text-align:right;background-color: #FFFFFF !important;\"> portfolio_size </th>\n",
       "  </tr>\n",
       " </thead>\n",
       "<tbody>\n",
       "  <tr>\n",
       "   <td style=\"text-align:right;\"> 12 </td>\n",
       "  </tr>\n",
       "</tbody>\n",
       "</table></td><td style=\"background-color:white; vertical-align:top;\"><table>\n",
       " <thead>\n",
       "  <tr>\n",
       "   <th style=\"text-align:right;background-color: #FFFFFF !important;\"> allocation </th>\n",
       "  </tr>\n",
       " </thead>\n",
       "<tbody>\n",
       "  <tr>\n",
       "   <td style=\"text-align:right;\"> 83333.33 </td>\n",
       "  </tr>\n",
       "  <tr>\n",
       "   <td style=\"text-align:right;\"> 83333.33 </td>\n",
       "  </tr>\n",
       "  <tr>\n",
       "   <td style=\"text-align:right;\"> 83333.33 </td>\n",
       "  </tr>\n",
       "  <tr>\n",
       "   <td style=\"text-align:right;\"> 83333.33 </td>\n",
       "  </tr>\n",
       "  <tr>\n",
       "   <td style=\"text-align:right;\"> 83333.33 </td>\n",
       "  </tr>\n",
       "  <tr>\n",
       "   <td style=\"text-align:right;\"> 83333.33 </td>\n",
       "  </tr>\n",
       "  <tr>\n",
       "   <td style=\"text-align:right;\"> 83333.33 </td>\n",
       "  </tr>\n",
       "  <tr>\n",
       "   <td style=\"text-align:right;\"> 83333.33 </td>\n",
       "  </tr>\n",
       "  <tr>\n",
       "   <td style=\"text-align:right;\"> 83333.33 </td>\n",
       "  </tr>\n",
       "  <tr>\n",
       "   <td style=\"text-align:right;\"> 83333.33 </td>\n",
       "  </tr>\n",
       "  <tr>\n",
       "   <td style=\"text-align:right;\"> 83333.33 </td>\n",
       "  </tr>\n",
       "  <tr>\n",
       "   <td style=\"text-align:right;\"> 83333.33 </td>\n",
       "  </tr>\n",
       "</tbody>\n",
       "</table></td></tr></table>"
      ]
     },
     "metadata": {},
     "output_type": "display_data"
    }
   ],
   "source": [
    "# Set the business parameters.\n",
    "\n",
    "budget = 1000000\n",
    "portfolio_size = 12\n",
    "allocation = rep(budget/portfolio_size, portfolio_size)\n",
    "\n",
    "layout(fmt(budget), fmt(portfolio_size), fmt(allocation))"
   ]
  },
  {
   "cell_type": "markdown",
   "metadata": {},
   "source": [
    "## Data Retrieval\n",
    "\n",
    "_<< Discuss this data retrieval. >>_\n",
    "\n",
    "The whole process of data retrieval is done in the first and second part of the project, and the csv file \"My Data.csv\" was created in Part B of the project. In the following code cell, we load the data we created and present the first 6 rows of the dataset."
   ]
  },
  {
   "cell_type": "code",
   "execution_count": 4,
   "metadata": {},
   "outputs": [
    {
     "data": {
      "text/html": [
       "<table>\n",
       "<thead><tr><th scope=col>gvkey</th><th scope=col>tic</th><th scope=col>conm</th><th scope=col>PC1</th><th scope=col>PC2</th><th scope=col>prccq</th><th scope=col>growth</th><th scope=col>big_growth</th></tr></thead>\n",
       "<tbody>\n",
       "\t<tr><td>1004                        </td><td>AIR                         </td><td>AAR CORP                    </td><td>  3.4371231                 </td><td>-0.2260719                  </td><td>43.69                       </td><td> 0.0507455507               </td><td>NO                          </td></tr>\n",
       "\t<tr><td>1045                        </td><td>AAL                         </td><td>AMERICAN AIRLINES GROUP INC </td><td>-12.0332067                 </td><td> 0.8045109                  </td><td>32.11                       </td><td>-0.3828560446               </td><td>NO                          </td></tr>\n",
       "\t<tr><td>1050                        </td><td>CECE                        </td><td>CECO ENVIRONMENTAL CORP     </td><td>  3.9532234                 </td><td>-0.7553386                  </td><td> 6.75                       </td><td> 0.3157894737               </td><td>YES                         </td></tr>\n",
       "\t<tr><td>1062                        </td><td>ASA                         </td><td>ASA GOLD AND PRECIOUS METALS</td><td>  3.6561434                 </td><td>-0.7981915                  </td><td> 8.66                       </td><td>-0.2164739518               </td><td>NO                          </td></tr>\n",
       "\t<tr><td>1072                        </td><td>AVX                         </td><td>AVX CORP                    </td><td>  2.9282228                 </td><td>-0.7104200                  </td><td>15.25                       </td><td>-0.1184971098               </td><td>NO                          </td></tr>\n",
       "\t<tr><td>1075                        </td><td>PNW                         </td><td>PINNACLE WEST CAPITAL CORP  </td><td>  0.3488491                 </td><td> 1.1389605                  </td><td>85.20                       </td><td> 0.0002347969               </td><td>NO                          </td></tr>\n",
       "</tbody>\n",
       "</table>\n"
      ],
      "text/latex": [
       "\\begin{tabular}{r|llllllll}\n",
       " gvkey & tic & conm & PC1 & PC2 & prccq & growth & big\\_growth\\\\\n",
       "\\hline\n",
       "\t 1004                         & AIR                          & AAR CORP                     &   3.4371231                  & -0.2260719                   & 43.69                        &  0.0507455507                & NO                          \\\\\n",
       "\t 1045                         & AAL                          & AMERICAN AIRLINES GROUP INC  & -12.0332067                  &  0.8045109                   & 32.11                        & -0.3828560446                & NO                          \\\\\n",
       "\t 1050                         & CECE                         & CECO ENVIRONMENTAL CORP      &   3.9532234                  & -0.7553386                   &  6.75                        &  0.3157894737                & YES                         \\\\\n",
       "\t 1062                         & ASA                          & ASA GOLD AND PRECIOUS METALS &   3.6561434                  & -0.7981915                   &  8.66                        & -0.2164739518                & NO                          \\\\\n",
       "\t 1072                         & AVX                          & AVX CORP                     &   2.9282228                  & -0.7104200                   & 15.25                        & -0.1184971098                & NO                          \\\\\n",
       "\t 1075                         & PNW                          & PINNACLE WEST CAPITAL CORP   &   0.3488491                  &  1.1389605                   & 85.20                        &  0.0002347969                & NO                          \\\\\n",
       "\\end{tabular}\n"
      ],
      "text/markdown": [
       "\n",
       "| gvkey | tic | conm | PC1 | PC2 | prccq | growth | big_growth |\n",
       "|---|---|---|---|---|---|---|---|\n",
       "| 1004                         | AIR                          | AAR CORP                     |   3.4371231                  | -0.2260719                   | 43.69                        |  0.0507455507                | NO                           |\n",
       "| 1045                         | AAL                          | AMERICAN AIRLINES GROUP INC  | -12.0332067                  |  0.8045109                   | 32.11                        | -0.3828560446                | NO                           |\n",
       "| 1050                         | CECE                         | CECO ENVIRONMENTAL CORP      |   3.9532234                  | -0.7553386                   |  6.75                        |  0.3157894737                | YES                          |\n",
       "| 1062                         | ASA                          | ASA GOLD AND PRECIOUS METALS |   3.6561434                  | -0.7981915                   |  8.66                        | -0.2164739518                | NO                           |\n",
       "| 1072                         | AVX                          | AVX CORP                     |   2.9282228                  | -0.7104200                   | 15.25                        | -0.1184971098                | NO                           |\n",
       "| 1075                         | PNW                          | PINNACLE WEST CAPITAL CORP   |   0.3488491                  |  1.1389605                   | 85.20                        |  0.0002347969                | NO                           |\n",
       "\n"
      ],
      "text/plain": [
       "  gvkey tic  conm                         PC1         PC2        prccq\n",
       "1 1004  AIR  AAR CORP                       3.4371231 -0.2260719 43.69\n",
       "2 1045  AAL  AMERICAN AIRLINES GROUP INC  -12.0332067  0.8045109 32.11\n",
       "3 1050  CECE CECO ENVIRONMENTAL CORP        3.9532234 -0.7553386  6.75\n",
       "4 1062  ASA  ASA GOLD AND PRECIOUS METALS   3.6561434 -0.7981915  8.66\n",
       "5 1072  AVX  AVX CORP                       2.9282228 -0.7104200 15.25\n",
       "6 1075  PNW  PINNACLE WEST CAPITAL CORP     0.3488491  1.1389605 85.20\n",
       "  growth        big_growth\n",
       "1  0.0507455507 NO        \n",
       "2 -0.3828560446 NO        \n",
       "3  0.3157894737 YES       \n",
       "4 -0.2164739518 NO        \n",
       "5 -0.1184971098 NO        \n",
       "6  0.0002347969 NO        "
      ]
     },
     "metadata": {},
     "output_type": "display_data"
    }
   ],
   "source": [
    "# Retrieve \"My Data.csv\".  This is the ORIGINAL model training data.\n",
    "data = read.csv(\"My Data.csv\", header=TRUE)\n",
    "\n",
    "# Present a few rows ...\n",
    "data[1:6,]"
   ]
  },
  {
   "cell_type": "markdown",
   "metadata": {},
   "source": [
    "## Build Model\n",
    "\n",
    "_<< Discuss this model construction. >>_\n",
    "\n",
    "We construct a linear regression model to predict growth given PC1 and PC2, based on the original model training data. The resulted model has an intercept of -0.1185887, a coefficient for PC1 with a value of 0.0002455 and a coefficient for PC2 with a value of 0.0006294."
   ]
  },
  {
   "cell_type": "code",
   "execution_count": 5,
   "metadata": {},
   "outputs": [
    {
     "data": {
      "text/plain": [
       "\n",
       "Call:\n",
       "lm(formula = growth ~ PC1 + PC2, data = data)\n",
       "\n",
       "Coefficients:\n",
       "(Intercept)          PC1          PC2  \n",
       " -0.1185887    0.0002455    0.0006294  \n"
      ]
     },
     "metadata": {},
     "output_type": "display_data"
    }
   ],
   "source": [
    "# Construct a linear regression model to predict growth given PC1 and PC2, based on the\n",
    "# ORIGINAL model training data.\n",
    "# Present a brief summary of the model parameters.\n",
    "model = lm(growth~PC1+PC2, data)\n",
    "model"
   ]
  },
  {
   "cell_type": "markdown",
   "metadata": {},
   "source": [
    "## Investment Opportunities\n",
    "\n",
    "_<< Discuss this handling of investment opportunties. >>_\n",
    "\n",
    "We first read the dataset Investment Opportunities. As the size function shows, there are 918 observations and 680 variables in the dataset. Then, we partite the dataset by calendar quarter into four new datasets, one for each quarter. Additionally, we filter the observations to include only those with non-missing prccq. Also, we remove any observations about companies that reported more than once per quarter. In the same time, we change all the variable names by suffixing them with quarter information. For the next step, we consolidate all the data we have by company. We consolidate the four quarter datasets into one dataset, with one observation per company that includes variables for all four quarters and remove any observations with missing prccq.q4 values. The resulting dataset has 230 observations and 2711 variables. After that, we filter the data to include only those variables with at least 80% non-missing values in the original model training data (we did the selection in Part B of the project). There are 230 observations and 923 variables in the resulting dataset. Then, we impute the data using the same imputation values as computed for the original model training data. There are 230 observations and 923 variables in the resulting dataset. Next, we compute principal components using the centroids and weight matrix from the analysis of the original model training data and apply those principal components to only the numeric and integer variables used in the analysis of the original model training data. There are 230 observations and 737 variables in the resulting dataset. Finally, we combine the company information dataset and PC dataset and filter datasets as necessary to produce a new datset that includes all investment opportunities, but includes only predictor variables stored by previous analysis. The resulting dataframe has 230 observations and 5 variables. After all those procedures above, we have a clean dataset which can be used for model prediction in the later part of the project.  "
   ]
  },
  {
   "cell_type": "markdown",
   "metadata": {},
   "source": [
    "### Retrieve Data"
   ]
  },
  {
   "cell_type": "code",
   "execution_count": 6,
   "metadata": {},
   "outputs": [
    {
     "data": {
      "text/html": [
       "<table>\n",
       "<thead><tr><th scope=col>observations</th><th scope=col>variables</th></tr></thead>\n",
       "<tbody>\n",
       "\t<tr><td>918</td><td>680</td></tr>\n",
       "</tbody>\n",
       "</table>\n"
      ],
      "text/latex": [
       "\\begin{tabular}{r|ll}\n",
       " observations & variables\\\\\n",
       "\\hline\n",
       "\t 918 & 680\\\\\n",
       "\\end{tabular}\n"
      ],
      "text/markdown": [
       "\n",
       "| observations | variables |\n",
       "|---|---|\n",
       "| 918 | 680 |\n",
       "\n"
      ],
      "text/plain": [
       "  observations variables\n",
       "1 918          680      "
      ]
     },
     "metadata": {},
     "output_type": "display_data"
    }
   ],
   "source": [
    "# Retrieve \"Investment Opportunities.csv\"\n",
    "# Present the dataset size ...\n",
    "datax = read.csv(\"Investment Opportunities.csv\", header=TRUE)\n",
    "size(datax)"
   ]
  },
  {
   "cell_type": "markdown",
   "metadata": {},
   "source": [
    "### Partition Data by Calendar Quarter \n",
    "\n",
    "To partition the dataset by calendar quarter in which information is reported, first add a synthetic variable to indicate such.  Then partition into four new datasets, one for each quarter, and drop the quarter variables. Additionally, filter the observations to include only those with non-missing `prccq`.  Then remove any observations about companies that reported more than once per quarter.  Then change all the variable names (except for the `gvkey`, `tic`, and `conm` variables) by suffixing them with quarter information - e.g., in the Quarter 1 dataset, `prccq` becomes `prccq.q1`, etc."
   ]
  },
  {
   "cell_type": "code",
   "execution_count": 7,
   "metadata": {},
   "outputs": [],
   "source": [
    "# Partition the dataset as described.\n",
    "datax$quarter = quarter(mdy(datax[,2]))\n",
    "\n",
    "data.current.q1 = datax[(datax$quarter==1) & !is.na(datax$prccq), -ncol(datax)]\n",
    "data.current.q2 = datax[(datax$quarter==2) & !is.na(datax$prccq), -ncol(datax)]\n",
    "data.current.q3 = datax[(datax$quarter==3) & !is.na(datax$prccq), -ncol(datax)]\n",
    "data.current.q4 = datax[(datax$quarter==4) & !is.na(datax$prccq), -ncol(datax)]\n",
    "\n",
    "data.current.q1 = data.current.q1[!duplicated(data.current.q1$gvkey),]\n",
    "data.current.q2 = data.current.q2[!duplicated(data.current.q2$gvkey),]\n",
    "data.current.q3 = data.current.q3[!duplicated(data.current.q3$gvkey),]\n",
    "data.current.q4 = data.current.q4[!duplicated(data.current.q4$gvkey),]\n",
    "\n",
    "colnames(data.current.q1)[-c(1, 10, 12)] = paste0(colnames(data.current.q1)[-c(1, 10, 12)], \".q1\")\n",
    "colnames(data.current.q2)[-c(1, 10, 12)] = paste0(colnames(data.current.q2)[-c(1, 10, 12)], \".q2\")\n",
    "colnames(data.current.q3)[-c(1, 10, 12)] = paste0(colnames(data.current.q3)[-c(1, 10, 12)], \".q3\")\n",
    "colnames(data.current.q4)[-c(1, 10, 12)] = paste0(colnames(data.current.q4)[-c(1, 10, 12)], \".q4\")"
   ]
  },
  {
   "cell_type": "code",
   "execution_count": 8,
   "metadata": {},
   "outputs": [
    {
     "data": {
      "text/html": [
       "<table><tr><td style=\"background-color:white; vertical-align:top; padding-right:40px;\"><table>\n",
       "<caption><center><font color=\"black\"><b>size(data.current.q1)</b></font></center></caption>\n",
       " <thead>\n",
       "  <tr>\n",
       "   <th style=\"text-align:right;background-color: #FFFFFF !important;\"> observations </th>\n",
       "   <th style=\"text-align:right;background-color: #FFFFFF !important;\"> variables </th>\n",
       "  </tr>\n",
       " </thead>\n",
       "<tbody>\n",
       "  <tr>\n",
       "   <td style=\"text-align:right;\"> 209 </td>\n",
       "   <td style=\"text-align:right;\"> 680 </td>\n",
       "  </tr>\n",
       "</tbody>\n",
       "</table></td><td style=\"background-color:white; vertical-align:top; padding-right:40px;\"><table>\n",
       "<caption><center><font color=\"black\"><b>size(data.current.q2)</b></font></center></caption>\n",
       " <thead>\n",
       "  <tr>\n",
       "   <th style=\"text-align:right;background-color: #FFFFFF !important;\"> observations </th>\n",
       "   <th style=\"text-align:right;background-color: #FFFFFF !important;\"> variables </th>\n",
       "  </tr>\n",
       " </thead>\n",
       "<tbody>\n",
       "  <tr>\n",
       "   <td style=\"text-align:right;\"> 221 </td>\n",
       "   <td style=\"text-align:right;\"> 680 </td>\n",
       "  </tr>\n",
       "</tbody>\n",
       "</table></td><td style=\"background-color:white; vertical-align:top; padding-right:40px;\"><table>\n",
       "<caption><center><font color=\"black\"><b>size(data.current.q3)</b></font></center></caption>\n",
       " <thead>\n",
       "  <tr>\n",
       "   <th style=\"text-align:right;background-color: #FFFFFF !important;\"> observations </th>\n",
       "   <th style=\"text-align:right;background-color: #FFFFFF !important;\"> variables </th>\n",
       "  </tr>\n",
       " </thead>\n",
       "<tbody>\n",
       "  <tr>\n",
       "   <td style=\"text-align:right;\"> 227 </td>\n",
       "   <td style=\"text-align:right;\"> 680 </td>\n",
       "  </tr>\n",
       "</tbody>\n",
       "</table></td><td style=\"background-color:white; vertical-align:top;\"><table>\n",
       "<caption><center><font color=\"black\"><b>size(data.current.q4)</b></font></center></caption>\n",
       " <thead>\n",
       "  <tr>\n",
       "   <th style=\"text-align:right;background-color: #FFFFFF !important;\"> observations </th>\n",
       "   <th style=\"text-align:right;background-color: #FFFFFF !important;\"> variables </th>\n",
       "  </tr>\n",
       " </thead>\n",
       "<tbody>\n",
       "  <tr>\n",
       "   <td style=\"text-align:right;\"> 230 </td>\n",
       "   <td style=\"text-align:right;\"> 680 </td>\n",
       "  </tr>\n",
       "</tbody>\n",
       "</table></td></tr></table>"
      ]
     },
     "metadata": {},
     "output_type": "display_data"
    }
   ],
   "source": [
    "# Present the sizes of the data partitions\n",
    "layout(fmt(size(data.current.q1)),\n",
    "       fmt(size(data.current.q2)),\n",
    "       fmt(size(data.current.q3)),\n",
    "       fmt(size(data.current.q4)))"
   ]
  },
  {
   "cell_type": "markdown",
   "metadata": {},
   "source": [
    "### Consolidate Data by Company\n",
    "\n",
    "Consolidate the four quarter datasets into one dataset, with one observation per company that includes variables for all four quarters.  Remove any observations with missing `prccq.q4` values."
   ]
  },
  {
   "cell_type": "code",
   "execution_count": 9,
   "metadata": {},
   "outputs": [
    {
     "data": {
      "text/html": [
       "<table>\n",
       "<thead><tr><th scope=col>observations</th><th scope=col>variables</th></tr></thead>\n",
       "<tbody>\n",
       "\t<tr><td>230 </td><td>2711</td></tr>\n",
       "</tbody>\n",
       "</table>\n"
      ],
      "text/latex": [
       "\\begin{tabular}{r|ll}\n",
       " observations & variables\\\\\n",
       "\\hline\n",
       "\t 230  & 2711\\\\\n",
       "\\end{tabular}\n"
      ],
      "text/markdown": [
       "\n",
       "| observations | variables |\n",
       "|---|---|\n",
       "| 230  | 2711 |\n",
       "\n"
      ],
      "text/plain": [
       "  observations variables\n",
       "1 230          2711     "
      ]
     },
     "metadata": {},
     "output_type": "display_data"
    }
   ],
   "source": [
    "# Consolidate the partitions as described.\n",
    "# How many observations and variables in the resulting dataset? \n",
    "m12 = merge(data.current.q1, data.current.q2, by=c(\"gvkey\", \"tic\", \"conm\"), all=TRUE)\n",
    "m34 = merge(data.current.q3, data.current.q4, by=c(\"gvkey\", \"tic\", \"conm\"), all=TRUE)\n",
    "data.current = merge(m12, m34, by=c(\"gvkey\", \"tic\", \"conm\"), all=TRUE, sort=TRUE)\n",
    "data.current = data.current[!is.na(data.current$prccq.q4),]\n",
    "\n",
    "size(data.current)"
   ]
  },
  {
   "cell_type": "markdown",
   "metadata": {},
   "source": [
    "### Transform Representation of Data"
   ]
  },
  {
   "cell_type": "code",
   "execution_count": 10,
   "metadata": {},
   "outputs": [
    {
     "data": {
      "text/html": [
       "<table>\n",
       "<thead><tr><th scope=col>observations</th><th scope=col>variables</th></tr></thead>\n",
       "<tbody>\n",
       "\t<tr><td>230</td><td>923</td></tr>\n",
       "</tbody>\n",
       "</table>\n"
      ],
      "text/latex": [
       "\\begin{tabular}{r|ll}\n",
       " observations & variables\\\\\n",
       "\\hline\n",
       "\t 230 & 923\\\\\n",
       "\\end{tabular}\n"
      ],
      "text/markdown": [
       "\n",
       "| observations | variables |\n",
       "|---|---|\n",
       "| 230 | 923 |\n",
       "\n"
      ],
      "text/plain": [
       "  observations variables\n",
       "1 230          923      "
      ]
     },
     "metadata": {},
     "output_type": "display_data"
    }
   ],
   "source": [
    "# Filter the data to include only those variables with at least 80% non-missing values\n",
    "# in the ORIGINAL model training data.\n",
    "# How many observations and variables in the resulting dataset? \n",
    "#\n",
    "# You can use the readRDS() function. \n",
    "prevars = readRDS(\"My Pre-Variables.rds\")\n",
    "dataori = data.current[, prevars]\n",
    "size(dataori)"
   ]
  },
  {
   "cell_type": "code",
   "execution_count": 11,
   "metadata": {},
   "outputs": [
    {
     "data": {
      "text/html": [
       "<table>\n",
       "<thead><tr><th scope=col>observations</th><th scope=col>variables</th></tr></thead>\n",
       "<tbody>\n",
       "\t<tr><td>230</td><td>923</td></tr>\n",
       "</tbody>\n",
       "</table>\n"
      ],
      "text/latex": [
       "\\begin{tabular}{r|ll}\n",
       " observations & variables\\\\\n",
       "\\hline\n",
       "\t 230 & 923\\\\\n",
       "\\end{tabular}\n"
      ],
      "text/markdown": [
       "\n",
       "| observations | variables |\n",
       "|---|---|\n",
       "| 230 | 923 |\n",
       "\n"
      ],
      "text/plain": [
       "  observations variables\n",
       "1 230          923      "
      ]
     },
     "metadata": {},
     "output_type": "display_data"
    }
   ],
   "source": [
    "# Impute the data using the same imputation values as computed for the ORIGINAL model\n",
    "# training data. \n",
    "# How many observations and variables in the resulting dataset? \n",
    "#\n",
    "# You can use the readRDS() and put_impute() functions.\n",
    "ml = readRDS(\"My Imputation.rds\")\n",
    "impute.data = put_impute(dataori, ml)\n",
    "size(impute.data)"
   ]
  },
  {
   "cell_type": "code",
   "execution_count": 12,
   "metadata": {},
   "outputs": [
    {
     "data": {
      "text/html": [
       "<table>\n",
       "<thead><tr><th scope=col>observations</th><th scope=col>variables</th></tr></thead>\n",
       "<tbody>\n",
       "\t<tr><td>230</td><td>737</td></tr>\n",
       "</tbody>\n",
       "</table>\n"
      ],
      "text/latex": [
       "\\begin{tabular}{r|ll}\n",
       " observations & variables\\\\\n",
       "\\hline\n",
       "\t 230 & 737\\\\\n",
       "\\end{tabular}\n"
      ],
      "text/markdown": [
       "\n",
       "| observations | variables |\n",
       "|---|---|\n",
       "| 230 | 737 |\n",
       "\n"
      ],
      "text/plain": [
       "  observations variables\n",
       "1 230          737      "
      ]
     },
     "metadata": {},
     "output_type": "display_data"
    }
   ],
   "source": [
    "# Compute principal components using the centroids and weight matrix from the analysis\n",
    "# of the ORIGINAL model training data.  Apply to only the (numeric and integer) variables\n",
    "# used in the analysis of the ORIGINAL model training data. \n",
    "# How many observations and variables in the resulting dataset? \n",
    "#\n",
    "# You can use the readRDS() and predict() functions.\n",
    "# You can use rownames(pc$rotation) to get the (numeric and integer) variables. \n",
    "datanew = select_if(impute.data, is.numeric)\n",
    "\n",
    "pc = readRDS(\"My PC.rds\")\n",
    "pctable = predict(pc, datanew)\n",
    "\n",
    "size(pctable)"
   ]
  },
  {
   "cell_type": "code",
   "execution_count": 13,
   "metadata": {},
   "outputs": [
    {
     "data": {
      "text/html": [
       "<table>\n",
       "<thead><tr><th scope=col>observations</th><th scope=col>variables</th></tr></thead>\n",
       "<tbody>\n",
       "\t<tr><td>230</td><td>5  </td></tr>\n",
       "</tbody>\n",
       "</table>\n"
      ],
      "text/latex": [
       "\\begin{tabular}{r|ll}\n",
       " observations & variables\\\\\n",
       "\\hline\n",
       "\t 230 & 5  \\\\\n",
       "\\end{tabular}\n"
      ],
      "text/markdown": [
       "\n",
       "| observations | variables |\n",
       "|---|---|\n",
       "| 230 | 5   |\n",
       "\n"
      ],
      "text/plain": [
       "  observations variables\n",
       "1 230          5        "
      ]
     },
     "metadata": {},
     "output_type": "display_data"
    },
    {
     "data": {
      "text/html": [
       "<table>\n",
       "<thead><tr><th scope=col>gvkey</th><th scope=col>tic</th><th scope=col>conm</th><th scope=col>PC1</th><th scope=col>PC2</th></tr></thead>\n",
       "<tbody>\n",
       "\t<tr><td>1004                    </td><td>AIR                     </td><td>AAR CORP                </td><td> 3.472287               </td><td>-0.08425766             </td></tr>\n",
       "\t<tr><td>1410                    </td><td>ABM                     </td><td>ABM INDUSTRIES INC      </td><td> 2.796849               </td><td>-0.10000479             </td></tr>\n",
       "\t<tr><td>1562                    </td><td>AMSWA                   </td><td>AMERICAN SOFTWARE  -CL A</td><td> 3.986999               </td><td>-0.65366925             </td></tr>\n",
       "\t<tr><td>1618                    </td><td>AXR                     </td><td>AMREP CORP              </td><td> 3.642196               </td><td>-0.56307768             </td></tr>\n",
       "\t<tr><td>1632                    </td><td>ADI                     </td><td>ANALOG DEVICES          </td><td>-4.313079               </td><td> 0.96351130             </td></tr>\n",
       "\t<tr><td>1686                    </td><td>APOG                    </td><td>APOGEE ENTERPRISES INC  </td><td> 3.491347               </td><td> 0.18518797             </td></tr>\n",
       "</tbody>\n",
       "</table>\n"
      ],
      "text/latex": [
       "\\begin{tabular}{r|lllll}\n",
       " gvkey & tic & conm & PC1 & PC2\\\\\n",
       "\\hline\n",
       "\t 1004                     & AIR                      & AAR CORP                 &  3.472287                & -0.08425766             \\\\\n",
       "\t 1410                     & ABM                      & ABM INDUSTRIES INC       &  2.796849                & -0.10000479             \\\\\n",
       "\t 1562                     & AMSWA                    & AMERICAN SOFTWARE  -CL A &  3.986999                & -0.65366925             \\\\\n",
       "\t 1618                     & AXR                      & AMREP CORP               &  3.642196                & -0.56307768             \\\\\n",
       "\t 1632                     & ADI                      & ANALOG DEVICES           & -4.313079                &  0.96351130             \\\\\n",
       "\t 1686                     & APOG                     & APOGEE ENTERPRISES INC   &  3.491347                &  0.18518797             \\\\\n",
       "\\end{tabular}\n"
      ],
      "text/markdown": [
       "\n",
       "| gvkey | tic | conm | PC1 | PC2 |\n",
       "|---|---|---|---|---|\n",
       "| 1004                     | AIR                      | AAR CORP                 |  3.472287                | -0.08425766              |\n",
       "| 1410                     | ABM                      | ABM INDUSTRIES INC       |  2.796849                | -0.10000479              |\n",
       "| 1562                     | AMSWA                    | AMERICAN SOFTWARE  -CL A |  3.986999                | -0.65366925              |\n",
       "| 1618                     | AXR                      | AMREP CORP               |  3.642196                | -0.56307768              |\n",
       "| 1632                     | ADI                      | ANALOG DEVICES           | -4.313079                |  0.96351130              |\n",
       "| 1686                     | APOG                     | APOGEE ENTERPRISES INC   |  3.491347                |  0.18518797              |\n",
       "\n"
      ],
      "text/plain": [
       "  gvkey tic   conm                     PC1       PC2        \n",
       "1 1004  AIR   AAR CORP                  3.472287 -0.08425766\n",
       "2 1410  ABM   ABM INDUSTRIES INC        2.796849 -0.10000479\n",
       "3 1562  AMSWA AMERICAN SOFTWARE  -CL A  3.986999 -0.65366925\n",
       "4 1618  AXR   AMREP CORP                3.642196 -0.56307768\n",
       "5 1632  ADI   ANALOG DEVICES           -4.313079  0.96351130\n",
       "6 1686  APOG  APOGEE ENTERPRISES INC    3.491347  0.18518797"
      ]
     },
     "metadata": {},
     "output_type": "display_data"
    }
   ],
   "source": [
    "# Combine and filter datasets as necessary to produce a new datset that includes all investment\n",
    "# opportunities, but includes only predictor variables stored by previous analysis. \n",
    "# How many observations and variables?\n",
    "# Present the few few observations of the resulting dataset.\n",
    "#\n",
    "# You can use the readRDS() function.\n",
    "postvar = readRDS(\"My Post-Variables.rds\")\n",
    "result = data.frame(gvkey = dataori[, \"gvkey\"], tic = dataori[, \"tic\"], conm = dataori[, \"conm\"], PC1 = pctable[, \"PC1\"], PC2 = pctable[, \"PC2\"])\n",
    "size(result)\n",
    "head(result, 6)"
   ]
  },
  {
   "cell_type": "markdown",
   "metadata": {},
   "source": [
    "## Apply Model\n",
    "\n",
    "_<< Discuss this application of the model. >>_\n",
    "\n",
    "We use the model we made in part 4 of this assignment to predict growth of each investment opportunity. We add the predicted value into the Result dataset as a new column. Then, we sort the dataframe by the prediction column, putting higher predicted value rows at the front. After that, we choose the first 12 rows of the dataframe: the 12 investment opportunities for recommendation. The Portfolio dataframe consists the gvkey, tic, conm and budget allocation for each of the 12 investment opportunities. Finally, we store the portfolio recommendation and confirm that all the formats are correct. "
   ]
  },
  {
   "cell_type": "markdown",
   "metadata": {},
   "source": [
    "### Predict & Make Portfolio Recommendation"
   ]
  },
  {
   "cell_type": "code",
   "execution_count": 14,
   "metadata": {},
   "outputs": [
    {
     "data": {
      "text/html": [
       "<table>\n",
       "<caption><center><font color=\"black\"><b>portfolio</b></font></center></caption>\n",
       " <thead>\n",
       "  <tr>\n",
       "   <th style=\"text-align:right;background-color: #FFFFFF !important;\"> gvkey </th>\n",
       "   <th style=\"text-align:right;background-color: #FFFFFF !important;\"> tic </th>\n",
       "   <th style=\"text-align:right;background-color: #FFFFFF !important;\"> conm </th>\n",
       "   <th style=\"text-align:right;background-color: #FFFFFF !important;\"> allocation </th>\n",
       "  </tr>\n",
       " </thead>\n",
       "<tbody>\n",
       "  <tr>\n",
       "   <td style=\"text-align:right;\"> 23809 </td>\n",
       "   <td style=\"text-align:right;\"> AZO </td>\n",
       "   <td style=\"text-align:right;\"> AUTOZONE INC </td>\n",
       "   <td style=\"text-align:right;\"> 83333.33 </td>\n",
       "  </tr>\n",
       "  <tr>\n",
       "   <td style=\"text-align:right;\"> 29692 </td>\n",
       "   <td style=\"text-align:right;\"> WEBC </td>\n",
       "   <td style=\"text-align:right;\"> WEBCO INDUSTRIES INC </td>\n",
       "   <td style=\"text-align:right;\"> 83333.33 </td>\n",
       "  </tr>\n",
       "  <tr>\n",
       "   <td style=\"text-align:right;\"> 3570 </td>\n",
       "   <td style=\"text-align:right;\"> CBRL </td>\n",
       "   <td style=\"text-align:right;\"> CRACKER BARREL OLD CTRY STOR </td>\n",
       "   <td style=\"text-align:right;\"> 83333.33 </td>\n",
       "  </tr>\n",
       "  <tr>\n",
       "   <td style=\"text-align:right;\"> 63172 </td>\n",
       "   <td style=\"text-align:right;\"> FDS </td>\n",
       "   <td style=\"text-align:right;\"> FACTSET RESEARCH SYSTEMS INC </td>\n",
       "   <td style=\"text-align:right;\"> 83333.33 </td>\n",
       "  </tr>\n",
       "  <tr>\n",
       "   <td style=\"text-align:right;\"> 64344 </td>\n",
       "   <td style=\"text-align:right;\"> MTN </td>\n",
       "   <td style=\"text-align:right;\"> VAIL RESORTS INC </td>\n",
       "   <td style=\"text-align:right;\"> 83333.33 </td>\n",
       "  </tr>\n",
       "  <tr>\n",
       "   <td style=\"text-align:right;\"> 178704 </td>\n",
       "   <td style=\"text-align:right;\"> ULTA </td>\n",
       "   <td style=\"text-align:right;\"> ULTA BEAUTY INC </td>\n",
       "   <td style=\"text-align:right;\"> 83333.33 </td>\n",
       "  </tr>\n",
       "  <tr>\n",
       "   <td style=\"text-align:right;\"> 65430 </td>\n",
       "   <td style=\"text-align:right;\"> PLCE </td>\n",
       "   <td style=\"text-align:right;\"> CHILDRENS PLACE INC </td>\n",
       "   <td style=\"text-align:right;\"> 83333.33 </td>\n",
       "  </tr>\n",
       "  <tr>\n",
       "   <td style=\"text-align:right;\"> 10549 </td>\n",
       "   <td style=\"text-align:right;\"> THO </td>\n",
       "   <td style=\"text-align:right;\"> THOR INDUSTRIES INC </td>\n",
       "   <td style=\"text-align:right;\"> 83333.33 </td>\n",
       "  </tr>\n",
       "  <tr>\n",
       "   <td style=\"text-align:right;\"> 3504 </td>\n",
       "   <td style=\"text-align:right;\"> COO </td>\n",
       "   <td style=\"text-align:right;\"> COOPER COS INC (THE) </td>\n",
       "   <td style=\"text-align:right;\"> 83333.33 </td>\n",
       "  </tr>\n",
       "  <tr>\n",
       "   <td style=\"text-align:right;\"> 7921 </td>\n",
       "   <td style=\"text-align:right;\"> NDSN </td>\n",
       "   <td style=\"text-align:right;\"> NORDSON CORP </td>\n",
       "   <td style=\"text-align:right;\"> 83333.33 </td>\n",
       "  </tr>\n",
       "  <tr>\n",
       "   <td style=\"text-align:right;\"> 1864 </td>\n",
       "   <td style=\"text-align:right;\"> REX </td>\n",
       "   <td style=\"text-align:right;\"> REX AMERICAN RESOURCES CORP </td>\n",
       "   <td style=\"text-align:right;\"> 83333.33 </td>\n",
       "  </tr>\n",
       "  <tr>\n",
       "   <td style=\"text-align:right;\"> 2807 </td>\n",
       "   <td style=\"text-align:right;\"> CASY </td>\n",
       "   <td style=\"text-align:right;\"> CASEYS GENERAL STORES INC </td>\n",
       "   <td style=\"text-align:right;\"> 83333.33 </td>\n",
       "  </tr>\n",
       "</tbody>\n",
       "</table>"
      ]
     },
     "metadata": {},
     "output_type": "display_data"
    }
   ],
   "source": [
    "# Use the model to predict growths of each investment opportunity.\n",
    "# Recommend a portfolio of allocations to 12 investment opportunities: gvkey, tic, conm, allocation\n",
    "result$predict = predict(model, result[, c(\"PC1\", \"PC2\")])\n",
    "portfolio = result[order(result$predict,decreasing = TRUE), ][1:12, ][, c(1,2,3)]\n",
    "portfolio$allocation = budget/12\n",
    "fmt(portfolio, title = \"portfolio\")"
   ]
  },
  {
   "cell_type": "markdown",
   "metadata": {},
   "source": [
    "### Store Portfolio Recommendation"
   ]
  },
  {
   "cell_type": "code",
   "execution_count": 15,
   "metadata": {},
   "outputs": [],
   "source": [
    "# Store portfolio recommendation\n",
    "\n",
    "write.csv(portfolio, paste0(analyst, \".csv\"), row.names=FALSE)"
   ]
  },
  {
   "cell_type": "markdown",
   "metadata": {},
   "source": [
    "### Confirm That Format Is Correct"
   ]
  },
  {
   "cell_type": "code",
   "execution_count": 16,
   "metadata": {},
   "outputs": [
    {
     "data": {
      "text/html": [
       "<table>\n",
       "<caption><center><font color=\"black\"><b>Portfolio Recommendation | Format Check</b></font></center></caption>\n",
       " <thead>\n",
       "  <tr>\n",
       "   <th style=\"text-align:right;background-color: #FFFFFF !important;\"> analyst </th>\n",
       "   <th style=\"text-align:right;background-color: #FFFFFF !important;\"> columns </th>\n",
       "   <th style=\"text-align:right;background-color: #FFFFFF !important;\"> companies </th>\n",
       "   <th style=\"text-align:right;background-color: #FFFFFF !important;\"> allocations </th>\n",
       "  </tr>\n",
       " </thead>\n",
       "<tbody>\n",
       "  <tr>\n",
       "   <td style=\"text-align:right;\"> Rachel Chen </td>\n",
       "   <td style=\"text-align:right;\"> TRUE </td>\n",
       "   <td style=\"text-align:right;\"> TRUE </td>\n",
       "   <td style=\"text-align:right;\"> TRUE </td>\n",
       "  </tr>\n",
       "</tbody>\n",
       "</table>"
      ]
     },
     "metadata": {},
     "output_type": "display_data"
    }
   ],
   "source": [
    "portfolio.retrieved = read.csv(paste0(analyst, \".csv\"), header=TRUE)\n",
    "opportunities = unique(read.csv(\"Investment Opportunities.csv\", header=TRUE)$gvkey)\n",
    "\n",
    "columns = all(colnames(portfolio.retrieved) == c(\"gvkey\", \"tic\", \"conm\", \"allocation\"))\n",
    "companies = all(portfolio.retrieved$gvkey %in% opportunities)\n",
    "allocations = round(sum(portfolio.retrieved$allocation)) == budget\n",
    "                         \n",
    "check = data.frame(analyst, columns, companies, allocations)\n",
    "fmt(check, \"Portfolio Recommendation | Format Check\")"
   ]
  },
  {
   "cell_type": "markdown",
   "metadata": {},
   "source": [
    "<font size=1;>\n",
    "<p style=\"text-align: left;\">\n",
    "Copyright (c) Berkeley Data Analytics Group, LLC\n",
    "<span style=\"float: right;\">\n",
    "Document revised June 21, 2020\n",
    "</span>\n",
    "</p>\n",
    "</font>"
   ]
  }
 ],
 "metadata": {
  "hide_code_all_hidden": false,
  "hide_input": false,
  "kernelspec": {
   "display_name": "R",
   "language": "R",
   "name": "ir"
  },
  "language_info": {
   "codemirror_mode": "r",
   "file_extension": ".r",
   "mimetype": "text/x-r-source",
   "name": "R",
   "pygments_lexer": "r",
   "version": "3.6.3"
  },
  "toc": {
   "base_numbering": 1,
   "nav_menu": {},
   "number_sections": true,
   "sideBar": true,
   "skip_h1_title": true,
   "title_cell": "Table of Contents",
   "title_sidebar": "Contents",
   "toc_cell": false,
   "toc_position": {
    "height": "calc(100% - 180px)",
    "left": "10px",
    "top": "150px",
    "width": "256.396px"
   },
   "toc_section_display": true,
   "toc_window_display": true
  }
 },
 "nbformat": 4,
 "nbformat_minor": 2
}
